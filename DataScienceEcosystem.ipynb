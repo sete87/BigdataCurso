{
  "cells": [
    {
      "cell_type": "markdown",
      "metadata": {},
      "source": [
        "<center>\n",
        "    <img src=\"https://cf-courses-data.s3.us.cloud-object-storage.appdomain.cloud/IBMDeveloperSkillsNetwork-DS0105EN-SkillsNetwork/labs/Module2/images/SN_web_lightmode.png\" width=\"300\" alt=\"cognitiveclass.ai logo\">\n",
        "</center>\n"
      ]
    },
    {
      "cell_type": "markdown",
      "metadata": {},
      "source": [
        "#### Add your code below following the instructions given in the course\n"
      ]
    },
    {
      "cell_type": "markdown",
      "metadata": {},
      "source": [
        "<h1> Data Science Tools and Ecosystem </h1>\n",
        "\n",
        "In this notebook, Data Science Tools and Ecosystem are summarized."
      ]
    },
    {
      "cell_type": "markdown",
      "metadata": {},
      "source": [
        "<b>Objectives:</b>\n",
        "\n",
        "- List popular languages for Data Science\n",
        "- List some used libraries \n",
        "- List some data science tools\n",
        "- How to evaluate arithmetic expressions in Python"
      ]
    },
    {
      "cell_type": "markdown",
      "metadata": {},
      "source": [
        "Some of the popular languages that Data Scientists use are:\n",
        "\n",
        "<ol>\n",
        "<li>Python</li>\n",
        "<li>R</li>\n",
        "<li>SQL</li>\n",
        "<li>Java</li>\n",
        "<li>Julia</li>\n",
        "<li>Scala</li>\n",
        "</ol>\n",
        "\n",
        "Some of the commonly used libraries used by Data Scientists include:\n",
        "\n",
        "<ol>\n",
        "<li>NumPy</li>\n",
        "<li>Scikit-learn</li>\n",
        "<li>Pandas</li>\n",
        "<li>TensorFlow</li>\n",
        "</ol>"
      ]
    },
    {
      "cell_type": "markdown",
      "metadata": {},
      "source": [
        "| Data Science Tools |\n",
        "| --- |\n",
        "| JupyterNotebook |\n",
        "| Anaconda |\n",
        "| Rstudio |\n",
        "\n",
        "<h3> Below are a few examples of evaluating arithmetic expressions in Python </h3>"
      ]
    },
    {
      "cell_type": "code",
      "execution_count": null,
      "metadata": {},
      "outputs": [],
      "source": []
    }
  ],
  "metadata": {
    "kernelspec": {
      "display_name": "Python",
      "language": "python",
      "name": "conda-env-python-py"
    },
    "language_info": {
      "codemirror_mode": {
        "name": "ipython",
        "version": 3
      },
      "file_extension": ".py",
      "mimetype": "text/x-python",
      "name": "python",
      "nbconvert_exporter": "python",
      "pygments_lexer": "ipython3",
      "version": "3.7.12"
    }
  },
  "nbformat": 4,
  "nbformat_minor": 4
}