{
  "metadata": {
    "language_info": {
      "codemirror_mode": {
        "name": "python",
        "version": 3
      },
      "file_extension": ".py",
      "mimetype": "text/x-python",
      "name": "python",
      "nbconvert_exporter": "python",
      "pygments_lexer": "ipython3",
      "version": "3.8"
    },
    "kernelspec": {
      "name": "python",
      "display_name": "Python (Pyodide)",
      "language": "python"
    }
  },
  "nbformat_minor": 4,
  "nbformat": 4,
  "cells": [
    {
      "cell_type": "markdown",
      "source": "<h1> Data Science Tools and Ecosystem </h1>\n\nIn this notebook, Data Science Tools and Ecosystem are summarized.",
      "metadata": {
        "tags": []
      }
    },
    {
      "cell_type": "markdown",
      "source": "<b>Objectives:</b>\n\n- List popular languages for Data Science\n- List some used libraries \n- List some data science tools\n- How to evaluate arithmetic expressions in Python",
      "metadata": {}
    },
    {
      "cell_type": "markdown",
      "source": "Some of the popular languages that Data Scientists use are:\n\n<ol>\n<li>Python</li>\n<li>R</li>\n<li>SQL</li>\n<li>Java</li>\n<li>Julia</li>\n<li>Scala</li>\n</ol>\n\nSome of the commonly used libraries used by Data Scientists include:\n\n<ol>\n<li>NumPy</li>\n<li>Scikit-learn</li>\n<li>Pandas</li>\n<li>TensorFlow</li>\n</ol>\n",
      "metadata": {}
    },
    {
      "cell_type": "markdown",
      "source": "\n| Data Science Tools |\n| --- |\n| JupyterNotebook |\n| Anaconda |\n| Rstudio |\n\n<h3> Below are a few examples of evaluating arithmetic expressions in Python </h3>",
      "metadata": {}
    },
    {
      "cell_type": "code",
      "source": "# This a simple arithmetic expression to mutiply then add integers\n\n(3*4)+5\n",
      "metadata": {
        "trusted": true
      },
      "execution_count": 4,
      "outputs": [
        {
          "execution_count": 4,
          "output_type": "execute_result",
          "data": {
            "text/plain": "17"
          },
          "metadata": {}
        }
      ]
    },
    {
      "cell_type": "code",
      "source": " # This will convert 200 minutes to hours by diving by 60\n    \n200/60",
      "metadata": {
        "trusted": true
      },
      "execution_count": 6,
      "outputs": [
        {
          "execution_count": 6,
          "output_type": "execute_result",
          "data": {
            "text/plain": "3.3333333333333335"
          },
          "metadata": {}
        }
      ]
    },
    {
      "cell_type": "markdown",
      "source": "<h2>Author</h2>\nJosé Hervás Chico",
      "metadata": {}
    },
    {
      "cell_type": "code",
      "source": "",
      "metadata": {},
      "execution_count": null,
      "outputs": []
    }
  ]
}